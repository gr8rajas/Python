{
 "cells": [
  {
   "cell_type": "markdown",
   "metadata": {},
   "source": [
    "### Regular Expression Practice Exercise"
   ]
  },
  {
   "cell_type": "markdown",
   "metadata": {},
   "source": [
    "This excersie will use `''.join()` function of python\n",
    "\n",
    "What join does is, it combines the elements of a list or tuple with a common separator\n",
    "\n",
    "To be able to use finditer, we need to pass a string. We use the join function to achieve that."
   ]
  },
  {
   "cell_type": "code",
   "execution_count": 1,
   "metadata": {},
   "outputs": [
    {
     "name": "stdout",
     "output_type": "stream",
     "text": [
      "Joining element of 'a' using ' | ' as separator\n",
      "This | Is | it | Also | Mine | Whatever\n",
      "()\n",
      "Joining element of 'a' using ', ' as separator\n",
      "This, Is, it, Also, Mine, Whatever\n",
      "()\n",
      "Joining element of 'a' without a separator\n",
      "ThisIsitAlsoMineWhatever\n",
      "()\n",
      "Joining element of 'a' using '||' as separator\n",
      "This||Is||it||Also||Mine||Whatever\n",
      "()\n"
     ]
    }
   ],
   "source": [
    "# Example of join Functions\n",
    "a = ['This','Is','it','Also','Mine','Whatever']\n",
    "\n",
    "print(\"Joining element of 'a' using ' | ' as separator\")\n",
    "print(\" | \".join(a))\n",
    "print()\n",
    "print(\"Joining element of 'a' using ', ' as separator\")\n",
    "print(\", \".join(a))\n",
    "print()\n",
    "print(\"Joining element of 'a' without a separator\")\n",
    "print(\"\".join(a))\n",
    "print()\n",
    "print(\"Joining element of 'a' using '||' as separator\")\n",
    "print(\"||\".join(a))\n",
    "print()"
   ]
  },
  {
   "cell_type": "markdown",
   "metadata": {},
   "source": [
    "`It can be used for a column of a dataframe as well`"
   ]
  },
  {
   "cell_type": "markdown",
   "metadata": {},
   "source": [
    "#### Import the random email data file"
   ]
  },
  {
   "cell_type": "code",
   "execution_count": 1,
   "metadata": {},
   "outputs": [],
   "source": [
    "import pandas as pd\n",
    "email = pd.read_csv(\"/Users/rk167p/Downloads/Random Email Dataset.csv\")"
   ]
  },
  {
   "cell_type": "markdown",
   "metadata": {},
   "source": [
    "#### Display the Email ids"
   ]
  },
  {
   "cell_type": "code",
   "execution_count": 2,
   "metadata": {
    "scrolled": true
   },
   "outputs": [
    {
     "data": {
      "text/html": [
       "<div>\n",
       "<style scoped>\n",
       "    .dataframe tbody tr th:only-of-type {\n",
       "        vertical-align: middle;\n",
       "    }\n",
       "\n",
       "    .dataframe tbody tr th {\n",
       "        vertical-align: top;\n",
       "    }\n",
       "\n",
       "    .dataframe thead th {\n",
       "        text-align: right;\n",
       "    }\n",
       "</style>\n",
       "<table border=\"1\" class=\"dataframe\">\n",
       "  <thead>\n",
       "    <tr style=\"text-align: right;\">\n",
       "      <th></th>\n",
       "      <th>Id</th>\n",
       "      <th>Email Address</th>\n",
       "    </tr>\n",
       "  </thead>\n",
       "  <tbody>\n",
       "    <tr>\n",
       "      <th>0</th>\n",
       "      <td>138</td>\n",
       "      <td>mnmwuhasdwqweqw</td>\n",
       "    </tr>\n",
       "    <tr>\n",
       "      <th>1</th>\n",
       "      <td>141</td>\n",
       "      <td>cynvhupf@gamail.com</td>\n",
       "    </tr>\n",
       "    <tr>\n",
       "      <th>2</th>\n",
       "      <td>155</td>\n",
       "      <td>doznfpxy@gamail.com</td>\n",
       "    </tr>\n",
       "    <tr>\n",
       "      <th>3</th>\n",
       "      <td>156</td>\n",
       "      <td>ufpgolgelastqxaoi</td>\n",
       "    </tr>\n",
       "    <tr>\n",
       "      <th>4</th>\n",
       "      <td>160</td>\n",
       "      <td>rdvafvkummnuj@yahooo.com</td>\n",
       "    </tr>\n",
       "    <tr>\n",
       "      <th>5</th>\n",
       "      <td>160</td>\n",
       "      <td>rvkwwlntnchl@yahooo.com</td>\n",
       "    </tr>\n",
       "    <tr>\n",
       "      <th>6</th>\n",
       "      <td>162</td>\n",
       "      <td>hrgsyomuf@gamail.com</td>\n",
       "    </tr>\n",
       "    <tr>\n",
       "      <th>7</th>\n",
       "      <td>169</td>\n",
       "      <td>spiltjsn@yahooo.com</td>\n",
       "    </tr>\n",
       "    <tr>\n",
       "      <th>8</th>\n",
       "      <td>173</td>\n",
       "      <td>mtrhitjlqw@gamail.com</td>\n",
       "    </tr>\n",
       "    <tr>\n",
       "      <th>9</th>\n",
       "      <td>175</td>\n",
       "      <td>oerdomqxcb@gamail.com</td>\n",
       "    </tr>\n",
       "  </tbody>\n",
       "</table>\n",
       "</div>"
      ],
      "text/plain": [
       "    Id             Email Address\n",
       "0  138           mnmwuhasdwqweqw\n",
       "1  141       cynvhupf@gamail.com\n",
       "2  155       doznfpxy@gamail.com\n",
       "3  156         ufpgolgelastqxaoi\n",
       "4  160  rdvafvkummnuj@yahooo.com\n",
       "5  160   rvkwwlntnchl@yahooo.com\n",
       "6  162      hrgsyomuf@gamail.com\n",
       "7  169       spiltjsn@yahooo.com\n",
       "8  173     mtrhitjlqw@gamail.com\n",
       "9  175     oerdomqxcb@gamail.com"
      ]
     },
     "execution_count": 2,
     "metadata": {},
     "output_type": "execute_result"
    }
   ],
   "source": [
    "email.head(10)"
   ]
  },
  {
   "cell_type": "markdown",
   "metadata": {},
   "source": [
    "#### FInd the number of gamail email Ids (ending with @gamail.com)"
   ]
  },
  {
   "cell_type": "code",
   "execution_count": 17,
   "metadata": {},
   "outputs": [
    {
     "name": "stdout",
     "output_type": "stream",
     "text": [
      "100\n"
     ]
    }
   ],
   "source": [
    "import re\n",
    "x = email['Email Address']\n",
    "# print(' '.join(x)) #converting to string\n",
    "\n",
    "pattern = re.compile(r'[a-zA-Z0-9_]@gamail\\.com\\b')\n",
    "matches = pattern.finditer(' '.join(x))\n",
    "cnt =0\n",
    "for mat in matches:\n",
    "    cnt +=1\n",
    "print(cnt)"
   ]
  },
  {
   "cell_type": "code",
   "execution_count": null,
   "metadata": {},
   "outputs": [],
   "source": []
  },
  {
   "cell_type": "markdown",
   "metadata": {},
   "source": [
    "#### Find the number of yahooo email Ids (ending with @yahooo.com)"
   ]
  },
  {
   "cell_type": "code",
   "execution_count": 20,
   "metadata": {},
   "outputs": [
    {
     "name": "stdout",
     "output_type": "stream",
     "text": [
      "30\n"
     ]
    }
   ],
   "source": [
    "pattern = re.compile(r'[a-zA-Z0-9_]@yahooo\\.com')\n",
    "matches = pattern.finditer(' '.join(x))\n",
    "cnt =0\n",
    "for mat in matches:\n",
    "    cnt +=1\n",
    "print(cnt)"
   ]
  },
  {
   "cell_type": "markdown",
   "metadata": {},
   "source": [
    "#### Find the number of entries that are not email ids (consider the entries that do not have a @ and a .com/.in/.org in them)"
   ]
  },
  {
   "cell_type": "code",
   "execution_count": 53,
   "metadata": {},
   "outputs": [
    {
     "name": "stdout",
     "output_type": "stream",
     "text": [
      "0\n"
     ]
    }
   ],
   "source": [
    "pattern = re.compile(r'^\\.com')\n",
    "matches = pattern.finditer(' '.join(x))\n",
    "cnt =0\n",
    "for mat in matches:\n",
    "    cnt +=1\n",
    "    print(mat)\n",
    "print(cnt)"
   ]
  },
  {
   "cell_type": "markdown",
   "metadata": {},
   "source": [
    "#### find the total entries that have the pattern 'asd' in them"
   ]
  },
  {
   "cell_type": "code",
   "execution_count": 54,
   "metadata": {},
   "outputs": [
    {
     "name": "stdout",
     "output_type": "stream",
     "text": [
      "Number of such patterns: 20\n"
     ]
    }
   ],
   "source": [
    "pattern4 = re.compile(r'asd')\n",
    "matches = pattern4.finditer(' '.join(x))\n",
    "counter = 0\n",
    "for mat in matches:\n",
    "    counter = counter + 1\n",
    "    #print(mat)\n",
    "\n",
    "print('Number of such patterns:', counter)"
   ]
  },
  {
   "cell_type": "markdown",
   "metadata": {},
   "source": [
    "#### find the number of email Ids that start with k"
   ]
  },
  {
   "cell_type": "code",
   "execution_count": 58,
   "metadata": {},
   "outputs": [
    {
     "name": "stdout",
     "output_type": "stream",
     "text": [
      "<re.Match object; span=(80, 98), match='kummnuj@yahooo.com'>\n",
      "<re.Match object; span=(101, 122), match='kwwlntnchl@yahooo.com'>\n",
      "<re.Match object; span=(264, 282), match='kiokhac@yahooo.com'>\n",
      "<re.Match object; span=(369, 381), match='k@gamail.com'>\n",
      "<re.Match object; span=(427, 443), match='kqhbr@yahooo.com'>\n",
      "<re.Match object; span=(447, 463), match='khpek@gamail.com'>\n",
      "<re.Match object; span=(465, 484), match='krfsjbxa@gamail.com'>\n",
      "<re.Match object; span=(525, 540), match='ktzb@gamail.com'>\n",
      "<re.Match object; span=(599, 615), match='kyzfw@gamail.com'>\n",
      "<re.Match object; span=(624, 637), match='kv@gamail.com'>\n",
      "<re.Match object; span=(638, 660), match='kmqukhckbhk@yahooo.com'>\n",
      "<re.Match object; span=(719, 738), match='kgzqlonx@gamail.com'>\n",
      "<re.Match object; span=(787, 802), match='kyfq@gamail.com'>\n",
      "<re.Match object; span=(827, 845), match='kwbpawf@gamail.com'>\n",
      "<re.Match object; span=(872, 888), match='kmvyz@gamail.com'>\n",
      "<re.Match object; span=(890, 910), match='kxzclcijp@gamail.com'>\n",
      "<re.Match object; span=(914, 931), match='kbauib@gamail.com'>\n",
      "<re.Match object; span=(994, 1008), match='krc@gamail.com'>\n",
      "<re.Match object; span=(1054, 1068), match='kei@gamail.com'>\n",
      "<re.Match object; span=(1083, 1102), match='kryynvaa@gamail.com'>\n",
      "<re.Match object; span=(1263, 1277), match='kpd@yahooo.com'>\n",
      "<re.Match object; span=(1280, 1297), match='kvboow@gamail.com'>\n",
      "<re.Match object; span=(1360, 1379), match='kkvrefqd@yahooo.com'>\n",
      "<re.Match object; span=(1427, 1441), match='kjn@gamail.com'>\n",
      "<re.Match object; span=(1464, 1485), match='kjnjlcxwti@yahooo.com'>\n",
      "<re.Match object; span=(1670, 1687), match='konboq@gamail.com'>\n",
      "<re.Match object; span=(1746, 1758), match='k@yahooo.com'>\n",
      "<re.Match object; span=(1794, 1813), match='kgbxxhcg@gamail.com'>\n",
      "<re.Match object; span=(1925, 1940), match='kbal@gamail.com'>\n",
      "<re.Match object; span=(2045, 2058), match='ky@gamail.com'>\n",
      "<re.Match object; span=(2073, 2092), match='kgiyzzek@gamail.com'>\n",
      "<re.Match object; span=(2166, 2182), match='kfuyi@gamail.com'>\n",
      "<re.Match object; span=(2207, 2224), match='klheyf@gamail.com'>\n",
      "<re.Match object; span=(2367, 2388), match='knyxtuhiky@gamail.com'>\n",
      "<re.Match object; span=(2419, 2434), match='kmvp@gamail.com'>\n",
      "<re.Match object; span=(2438, 2460), match='kosltxcflae@yahooo.com'>\n",
      "<re.Match object; span=(2463, 2480), match='kshtyo@gamail.com'>\n",
      "<re.Match object; span=(2607, 2623), match='kuwur@gamail.com'>\n",
      "<re.Match object; span=(2723, 2743), match='kpccwuyxg@gamail.com'>\n",
      "<re.Match object; span=(2817, 2831), match='ksj@gamail.com'>\n",
      "<re.Match object; span=(3004, 3027), match='khofbftkpelo@yahooo.com'>\n",
      "<re.Match object; span=(3110, 3128), match='kttvbpl@yahooo.com'>\n",
      "<re.Match object; span=(3168, 3187), match='kdhrbpru@yahooo.com'>\n",
      "<re.Match object; span=(3233, 3250), match='ksquxy@gamail.com'>\n",
      "<re.Match object; span=(3353, 3367), match='kxz@gamail.com'>\n",
      "Number of such email Ids: 45\n"
     ]
    }
   ],
   "source": [
    "pattern5 = re.compile(r'[k][a-zA-Z0-9_]*@[a-zA-Z0-9_]*\\.[a-z]{2,4}\\b')\n",
    "matches = pattern5.finditer(' '.join(x))\n",
    "counter = 0\n",
    "for mat in matches:\n",
    "    counter = counter + 1\n",
    "    print(mat)\n",
    "\n",
    "print('Number of such email Ids:', counter)"
   ]
  },
  {
   "cell_type": "code",
   "execution_count": null,
   "metadata": {},
   "outputs": [],
   "source": []
  }
 ],
 "metadata": {
  "kernelspec": {
   "display_name": "Python 3",
   "language": "python",
   "name": "python3"
  },
  "language_info": {
   "codemirror_mode": {
    "name": "ipython",
    "version": 3
   },
   "file_extension": ".py",
   "mimetype": "text/x-python",
   "name": "python",
   "nbconvert_exporter": "python",
   "pygments_lexer": "ipython3",
   "version": "3.7.9"
  }
 },
 "nbformat": 4,
 "nbformat_minor": 2
}
