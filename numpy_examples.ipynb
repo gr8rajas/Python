{
 "cells": [
  {
   "cell_type": "markdown",
   "metadata": {},
   "source": [
    "# NumPy\n",
    "\n",
    "numpy is python's package for doing math that is more advanced than +-*/\n",
    "\n",
    "This includes special functions like cosine, exponential, sqrt, ...\n",
    "\n",
    "On top of this we can use numpy to generate samples from many types of random variables\n",
    "\n",
    "numpy also has a powerful data type to define vectors, matrices, and tensors\n",
    "\n",
    "With these data types numpy also allows us to do linear algebra - matrix multiplication and matrix-vector solutions"
   ]
  },
  {
   "cell_type": "code",
   "execution_count": 1,
   "metadata": {},
   "outputs": [],
   "source": [
    "# the first step of using numpy is to tell python to use it\n",
    "import numpy as np"
   ]
  },
  {
   "cell_type": "code",
   "execution_count": 2,
   "metadata": {},
   "outputs": [
    {
     "name": "stdout",
     "output_type": "stream",
     "text": [
      "-1.0\n",
      "1.1\n",
      "5.2\n"
     ]
    }
   ],
   "source": [
    "print(np.cos(np.pi))\n",
    "print(np.sqrt(1.21))\n",
    "print(np.log(np.exp(5.2)))"
   ]
  },
  {
   "cell_type": "code",
   "execution_count": 3,
   "metadata": {},
   "outputs": [
    {
     "name": "stdout",
     "output_type": "stream",
     "text": [
      "[1 2 3]\n",
      "\n",
      "[[1 2 1]\n",
      " [4 5 9]\n",
      " [1 8 9]]\n",
      "\n",
      "[[1 4 1]\n",
      " [2 5 8]\n",
      " [1 9 9]]\n"
     ]
    }
   ],
   "source": [
    "# we can create numpy arrays by converting lists\n",
    "# this is a vector\n",
    "vec = np.array([1,2,3])\n",
    "print(vec)\n",
    "# we can create matrices by converting lists of lists\n",
    "mat = np.array([[1,2,1],[4,5,9],[1,8,9]])\n",
    "print('')\n",
    "print(mat)\n",
    "print('')\n",
    "print(mat.T)"
   ]
  },
  {
   "cell_type": "code",
   "execution_count": 4,
   "metadata": {},
   "outputs": [
    {
     "name": "stdout",
     "output_type": "stream",
     "text": [
      "[ 0  1  2  3  4  5  6  7  8  9 10 11 12 13 14]\n",
      "\n",
      "[ 3  9 15]\n"
     ]
    }
   ],
   "source": [
    "# there are lots of other ways to create numpy arrays\n",
    "vec2 = np.arange(0,15)\n",
    "print(vec2)\n",
    "print('')\n",
    "vec3 = np.arange(3,21,6)\n",
    "print(vec3)\n"
   ]
  },
  {
   "cell_type": "code",
   "execution_count": 5,
   "metadata": {},
   "outputs": [
    {
     "name": "stdout",
     "output_type": "stream",
     "text": [
      "[0.         0.55555556 1.11111111 1.66666667 2.22222222 2.77777778\n",
      " 3.33333333 3.88888889 4.44444444 5.        ]\n",
      "\n",
      "[[0.         0.55555556]\n",
      " [1.11111111 1.66666667]\n",
      " [2.22222222 2.77777778]\n",
      " [3.33333333 3.88888889]\n",
      " [4.44444444 5.        ]]\n",
      "[[0.         0.55555556]\n",
      " [1.11111111 1.66666667]\n",
      " [2.22222222 2.77777778]\n",
      " [3.33333333 3.88888889]\n",
      " [4.44444444 5.        ]]\n",
      "[0.         0.55555556 1.11111111 1.66666667 2.22222222 2.77777778\n",
      " 3.33333333 3.88888889 4.44444444 5.        ]\n"
     ]
    }
   ],
   "source": [
    "\n",
    "vec4 = np.linspace(0,5,10)\n",
    "print(vec4)\n",
    "print('')\n",
    "print(vec4.reshape(5,2))\n",
    "vec4_reshaped = vec4.reshape(5,2)\n",
    "print(vec4_reshaped)\n",
    "print(vec4)"
   ]
  },
  {
   "cell_type": "code",
   "execution_count": null,
   "metadata": {},
   "outputs": [],
   "source": [
    "mat2 = np.zeros([5,3])\n",
    "print(mat2)\n",
    "mat3 = np.ones((3,5))\n",
    "print('')\n",
    "print(mat3)\n",
    "mat4 = np.eye(5)\n",
    "print('')\n",
    "print(mat4)"
   ]
  },
  {
   "cell_type": "code",
   "execution_count": 6,
   "metadata": {},
   "outputs": [
    {
     "name": "stdout",
     "output_type": "stream",
     "text": [
      "[1 2 3 4 5]\n",
      "[3 4 5 6 7]\n",
      "[ 4  6  8 10 12]\n",
      "[ 3  8 15 24 35]\n",
      "[1 0 0 0 0]\n",
      "[1.73205081 2.         2.23606798 2.44948974 2.64575131]\n"
     ]
    }
   ],
   "source": [
    "# we can +-*/ arrays together if they're the right size\n",
    "vec5 = np.arange(1,6)\n",
    "vec6 = np.arange(3,8)\n",
    "print(vec5)\n",
    "print(vec6)\n",
    "print(vec5+vec6)\n",
    "print(vec5*vec6)\n",
    "print(1/vec5)\n",
    "print(np.sqrt(vec6))"
   ]
  },
  {
   "cell_type": "code",
   "execution_count": 7,
   "metadata": {},
   "outputs": [
    {
     "name": "stdout",
     "output_type": "stream",
     "text": [
      "[[1 2 1]\n",
      " [4 5 9]\n",
      " [1 8 9]]\n",
      "\n",
      "[1 2 3]\n",
      "()\n",
      "[ 8 41 44]\n"
     ]
    }
   ],
   "source": [
    "# we can do matrix multiplication\n",
    "print(mat)\n",
    "print('')\n",
    "print(vec)\n",
    "print()\n",
    "product = np.matmul(mat,vec)\n",
    "print(product)"
   ]
  },
  {
   "cell_type": "code",
   "execution_count": 8,
   "metadata": {},
   "outputs": [
    {
     "name": "stdout",
     "output_type": "stream",
     "text": [
      "[1. 2. 3.]\n",
      "\n",
      "[[ 0.5         0.18518519 -0.24074074]\n",
      " [ 0.5        -0.14814815  0.09259259]\n",
      " [-0.5         0.11111111  0.05555556]]\n"
     ]
    }
   ],
   "source": [
    "print(np.linalg.solve(mat,product))\n",
    "print('')\n",
    "print(np.linalg.inv(mat))"
   ]
  },
  {
   "cell_type": "code",
   "execution_count": 9,
   "metadata": {},
   "outputs": [
    {
     "name": "stdout",
     "output_type": "stream",
     "text": [
      "['blue' 'red' 'orange' 'purple' 'purple' 'orange' 'Red' '6']\n",
      "['6' 'Red' 'blue' 'orange' 'purple' 'red']\n"
     ]
    }
   ],
   "source": [
    "# we can find the unique values in an array\n",
    "vec7 = np.array(['blue','red','orange','purple','purple','orange','Red',6])\n",
    "print(vec7)\n",
    "print(np.unique(vec7))"
   ]
  },
  {
   "cell_type": "code",
   "execution_count": 10,
   "metadata": {},
   "outputs": [
    {
     "name": "stdout",
     "output_type": "stream",
     "text": [
      "[[0.82238191 0.00672259 0.22601092 0.91360775 0.5375015 ]\n",
      " [0.23976067 0.50105159 0.20706096 0.04158779 0.88339645]\n",
      " [0.18692704 0.50457132 0.84199233 0.02989144 0.97134621]\n",
      " [0.17597227 0.67482307 0.28520371 0.77754043 0.22064221]\n",
      " [0.26942082 0.32114754 0.18819022 0.90876114 0.88026087]]\n",
      "\n",
      "[[-8.35474480e-01 -8.02541449e-01 -1.17007050e+00 -9.67741987e-01\n",
      "   3.43607652e-01]\n",
      " [ 1.63373286e+00 -2.44596457e-01 -2.70286062e-01 -1.62208936e-01\n",
      "   1.48192208e+00]\n",
      " [ 7.94030119e-01 -2.64227806e+00 -2.61754902e-03  1.68192209e+00\n",
      "   4.81620964e-01]\n",
      " [ 7.17549809e-01  1.34847771e+00 -8.27947874e-01 -9.59090747e-02\n",
      "  -1.82142937e-01]\n",
      " [ 1.43046761e+00 -6.61195389e-01 -4.97651279e-01 -1.51756731e+00\n",
      "   4.52143529e-01]\n",
      " [ 2.97686619e-01  3.97603560e-02 -1.60864263e+00  9.28215624e-01\n",
      "  -1.35963287e+00]\n",
      " [-1.47728035e+00 -1.94042537e+00 -3.91427884e-01  4.09518612e-01\n",
      "  -6.75362649e-01]\n",
      " [-8.44984452e-01  1.75005355e+00 -2.37107671e-01 -1.39933690e+00\n",
      "   3.37870930e-01]\n",
      " [-5.88426362e-01  5.19583805e-01  7.46842893e-02 -1.15838233e+00\n",
      "   3.45183973e-01]\n",
      " [ 2.51400354e-01 -1.07950709e+00 -6.23134241e-01 -1.49764555e+00\n",
      "   9.61995320e-02]]\n"
     ]
    }
   ],
   "source": [
    "# we can also use numpy to generate samples of a random variable\n",
    "rand_mat = np.random.rand(5,5) # uniform random variable\n",
    "print(rand_mat)\n",
    "rand_mat2 = np.random.randn(10,5) # standard normal random variable\n",
    "print('')\n",
    "print(rand_mat2)"
   ]
  },
  {
   "cell_type": "code",
   "execution_count": 11,
   "metadata": {},
   "outputs": [
    {
     "name": "stdout",
     "output_type": "stream",
     "text": [
      "0.4646309097455773\n",
      "0.9959092225522438\n"
     ]
    }
   ],
   "source": [
    "# we can also use numpy for statistical tools on arrays\n",
    "print(np.mean(rand_mat))\n",
    "print(np.std(rand_mat2))"
   ]
  },
  {
   "cell_type": "code",
   "execution_count": 13,
   "metadata": {},
   "outputs": [
    {
     "name": "stdout",
     "output_type": "stream",
     "text": [
      "0.006722593260609977\n",
      "1.7500535501436052\n"
     ]
    }
   ],
   "source": [
    "print(np.min(rand_mat))\n",
    "print(np.max(rand_mat2))"
   ]
  },
  {
   "cell_type": "code",
   "execution_count": null,
   "metadata": {},
   "outputs": [],
   "source": []
  },
  {
   "cell_type": "code",
   "execution_count": 12,
   "metadata": {},
   "outputs": [
    {
     "name": "stdout",
     "output_type": "stream",
     "text": [
      "[ 0.22277939 -0.56977308  0.17150533 -1.68390866  0.25817096  0.27576293\n",
      "  0.97173606 -0.04654626  1.07564137 -1.01523797  0.04566435  1.26208256\n",
      " -1.25965691  1.20589682 -1.68517467 -0.18316205 -1.07876739 -0.41161568\n",
      " -1.2420208 ]\n",
      "0.9717360620831086\n"
     ]
    }
   ],
   "source": [
    "# how do we access entries in a numpy vector\n",
    "rand_vec = np.random.randn(19)\n",
    "print(rand_vec)\n",
    "print(rand_vec[6])"
   ]
  },
  {
   "cell_type": "code",
   "execution_count": 14,
   "metadata": {},
   "outputs": [
    {
     "name": "stdout",
     "output_type": "stream",
     "text": [
      "[ 0.25817096  0.27576293  0.97173606 -0.04654626  1.07564137]\n"
     ]
    }
   ],
   "source": [
    "# we can access multiple entries at once using :\n",
    "print(rand_vec[4:9])"
   ]
  },
  {
   "cell_type": "code",
   "execution_count": 15,
   "metadata": {},
   "outputs": [
    {
     "name": "stdout",
     "output_type": "stream",
     "text": [
      "[ 0  3  6  9 12]\n",
      "[ 0.22277939 -1.68390866  0.97173606 -1.01523797 -1.25965691]\n"
     ]
    }
   ],
   "source": [
    "# we can also access multiple non-consecutive entries using np.arange\n",
    "print(np.arange(0,15,3))\n",
    "print(rand_vec[np.arange(0,15,3)])"
   ]
  },
  {
   "cell_type": "code",
   "execution_count": 16,
   "metadata": {},
   "outputs": [
    {
     "name": "stdout",
     "output_type": "stream",
     "text": [
      "[[0.82238191 0.00672259 0.22601092 0.91360775 0.5375015 ]\n",
      " [0.23976067 0.50105159 0.20706096 0.04158779 0.88339645]\n",
      " [0.18692704 0.50457132 0.84199233 0.02989144 0.97134621]\n",
      " [0.17597227 0.67482307 0.28520371 0.77754043 0.22064221]\n",
      " [0.26942082 0.32114754 0.18819022 0.90876114 0.88026087]]\n",
      "0.20706096493789838\n",
      "0.20706096493789838\n"
     ]
    }
   ],
   "source": [
    "# what about matrices\n",
    "print(rand_mat)\n",
    "print(rand_mat[1][2])\n",
    "print(rand_mat[1,2])\n"
   ]
  },
  {
   "cell_type": "code",
   "execution_count": 17,
   "metadata": {},
   "outputs": [
    {
     "name": "stdout",
     "output_type": "stream",
     "text": [
      "[[0.00672259 0.22601092]\n",
      " [0.50105159 0.20706096]]\n"
     ]
    }
   ],
   "source": [
    "print(rand_mat[0:2,1:3])"
   ]
  },
  {
   "cell_type": "code",
   "execution_count": 18,
   "metadata": {},
   "outputs": [
    {
     "name": "stdout",
     "output_type": "stream",
     "text": [
      "[ 0.22277939 -0.56977308  0.17150533 -1.68390866  0.25817096  0.27576293\n",
      "  0.97173606 -0.04654626  1.07564137 -1.01523797  0.04566435  1.26208256\n",
      " -1.25965691  1.20589682 -1.68517467 -0.18316205 -1.07876739 -0.41161568\n",
      " -1.2420208 ]\n",
      "\n",
      "[ 0.22277939 -0.56977308  0.17150533  4.          4.          0.27576293\n",
      "  0.97173606 -0.04654626  1.07564137 -1.01523797  0.04566435  1.26208256\n",
      " -1.25965691  1.20589682 -1.68517467 -0.18316205 -1.07876739 -0.41161568\n",
      " -1.2420208 ]\n",
      "\n",
      "[ 0.22277939 -0.56977308  0.17150533  1.          2.          0.27576293\n",
      "  0.97173606 -0.04654626  1.07564137 -1.01523797  0.04566435  1.26208256\n",
      " -1.25965691  1.20589682 -1.68517467 -0.18316205 -1.07876739 -0.41161568\n",
      " -1.2420208 ]\n"
     ]
    }
   ],
   "source": [
    "# let's change some values in an array!\n",
    "print(rand_vec)\n",
    "rand_vec[3:5] = 4\n",
    "print('')\n",
    "print(rand_vec)\n",
    "rand_vec[3:5] = [1,2]\n",
    "print('')\n",
    "print(rand_vec)"
   ]
  },
  {
   "cell_type": "code",
   "execution_count": 20,
   "metadata": {},
   "outputs": [
    {
     "name": "stdout",
     "output_type": "stream",
     "text": [
      "[[3.         3.         3.         0.91360775 0.5375015 ]\n",
      " [3.         3.         3.         0.04158779 0.88339645]\n",
      " [0.18692704 0.50457132 0.84199233 0.02989144 0.97134621]\n",
      " [0.17597227 0.67482307 0.28520371 0.77754043 0.22064221]\n",
      " [0.26942082 0.32114754 0.18819022 0.90876114 0.88026087]]\n",
      "\n",
      "[[3.         3.         3.         0.91360775 0.5375015 ]\n",
      " [3.         3.         3.         0.         0.        ]\n",
      " [0.18692704 0.50457132 0.84199233 0.         0.        ]\n",
      " [0.17597227 0.67482307 0.28520371 0.77754043 0.22064221]\n",
      " [0.26942082 0.32114754 0.18819022 0.90876114 0.88026087]]\n"
     ]
    }
   ],
   "source": [
    "print(rand_mat)\n",
    "rand_mat[1:3,3:5] = 0\n",
    "print('')\n",
    "print(rand_mat)"
   ]
  },
  {
   "cell_type": "code",
   "execution_count": 19,
   "metadata": {},
   "outputs": [
    {
     "name": "stdout",
     "output_type": "stream",
     "text": [
      "[[0.82238191 0.00672259 0.22601092]\n",
      " [0.23976067 0.50105159 0.20706096]]\n",
      "[[3. 3. 3.]\n",
      " [3. 3. 3.]]\n"
     ]
    }
   ],
   "source": [
    "sub_mat = rand_mat[0:2,0:3]\n",
    "print(sub_mat)\n",
    "sub_mat[:] = 3\n",
    "print(sub_mat)\n"
   ]
  },
  {
   "cell_type": "code",
   "execution_count": null,
   "metadata": {},
   "outputs": [],
   "source": [
    "print(rand_mat)"
   ]
  },
  {
   "cell_type": "code",
   "execution_count": 21,
   "metadata": {},
   "outputs": [
    {
     "name": "stdout",
     "output_type": "stream",
     "text": [
      "[[99. 99. 99.]\n",
      " [99. 99. 99.]]\n",
      "[[3.         3.         3.         0.91360775 0.5375015 ]\n",
      " [3.         3.         3.         0.         0.        ]\n",
      " [0.18692704 0.50457132 0.84199233 0.         0.        ]\n",
      " [0.17597227 0.67482307 0.28520371 0.77754043 0.22064221]\n",
      " [0.26942082 0.32114754 0.18819022 0.90876114 0.88026087]]\n"
     ]
    }
   ],
   "source": [
    "sub_mat2 = rand_mat[0:2,0:3].copy()\n",
    "sub_mat2[:] = 99\n",
    "print(sub_mat2)\n",
    "print(rand_mat)\n"
   ]
  },
  {
   "cell_type": "code",
   "execution_count": null,
   "metadata": {},
   "outputs": [],
   "source": []
  },
  {
   "cell_type": "code",
   "execution_count": 22,
   "metadata": {},
   "outputs": [
    {
     "name": "stdout",
     "output_type": "stream",
     "text": [
      "[-0.02811921 -1.29977871  1.12352788 -0.0359103  -1.47282008 -1.03647963\n",
      " -0.22494683 -0.72638037 -0.1232407   1.55035393  0.74859239 -0.67989804\n",
      "  0.37791966  1.10435047  0.54961742]\n",
      "[False False  True False False False False False False  True  True False\n",
      "  True  True  True]\n",
      "[1.12352788 1.55035393 0.74859239 0.37791966 1.10435047 0.54961742]\n"
     ]
    }
   ],
   "source": [
    "# we can also access entries with logicals\n",
    "rand_vec = np.random.randn(15)\n",
    "\n",
    "print(rand_vec)\n",
    "print(rand_vec>0)\n",
    "print(rand_vec[rand_vec>0])"
   ]
  },
  {
   "cell_type": "code",
   "execution_count": 23,
   "metadata": {},
   "outputs": [
    {
     "name": "stdout",
     "output_type": "stream",
     "text": [
      "[[-8.35474480e-01 -8.02541449e-01 -1.17007050e+00 -9.67741987e-01\n",
      "   3.43607652e-01]\n",
      " [ 1.63373286e+00 -2.44596457e-01 -2.70286062e-01 -1.62208936e-01\n",
      "   1.48192208e+00]\n",
      " [ 7.94030119e-01 -2.64227806e+00 -2.61754902e-03  1.68192209e+00\n",
      "   4.81620964e-01]\n",
      " [ 7.17549809e-01  1.34847771e+00 -8.27947874e-01 -9.59090747e-02\n",
      "  -1.82142937e-01]\n",
      " [ 1.43046761e+00 -6.61195389e-01 -4.97651279e-01 -1.51756731e+00\n",
      "   4.52143529e-01]\n",
      " [ 2.97686619e-01  3.97603560e-02 -1.60864263e+00  9.28215624e-01\n",
      "  -1.35963287e+00]\n",
      " [-1.47728035e+00 -1.94042537e+00 -3.91427884e-01  4.09518612e-01\n",
      "  -6.75362649e-01]\n",
      " [-8.44984452e-01  1.75005355e+00 -2.37107671e-01 -1.39933690e+00\n",
      "   3.37870930e-01]\n",
      " [-5.88426362e-01  5.19583805e-01  7.46842893e-02 -1.15838233e+00\n",
      "   3.45183973e-01]\n",
      " [ 2.51400354e-01 -1.07950709e+00 -6.23134241e-01 -1.49764555e+00\n",
      "   9.61995320e-02]]\n",
      "[0.34360765 1.63373286 1.48192208 0.79403012 1.68192209 0.48162096\n",
      " 0.71754981 1.34847771 1.43046761 0.45214353 0.29768662 0.03976036\n",
      " 0.92821562 0.40951861 1.75005355 0.33787093 0.5195838  0.07468429\n",
      " 0.34518397 0.25140035 0.09619953]\n"
     ]
    }
   ],
   "source": [
    "print(rand_mat2)\n",
    "print(rand_mat2[rand_mat2>0])"
   ]
  },
  {
   "cell_type": "code",
   "execution_count": 24,
   "metadata": {},
   "outputs": [
    {
     "name": "stdout",
     "output_type": "stream",
     "text": [
      "[-0.02811921 -1.29977871  1.12352788 -0.0359103  -1.47282008 -1.03647963\n",
      " -0.22494683 -0.72638037 -0.1232407   1.55035393  0.74859239 -0.67989804\n",
      "  0.37791966  1.10435047  0.54961742]\n",
      "\n",
      "[-0.02811921 -1.29977871 -5.         -0.0359103  -1.47282008 -1.03647963\n",
      " -0.22494683 -0.72638037 -0.1232407  -5.         -5.         -0.67989804\n",
      "  0.37791966 -5.         -5.        ]\n"
     ]
    }
   ],
   "source": [
    "\n",
    "print(rand_vec)\n",
    "print('')\n",
    "rand_vec[rand_vec>0.5] = -5\n",
    "print(rand_vec)"
   ]
  },
  {
   "cell_type": "code",
   "execution_count": 25,
   "metadata": {},
   "outputs": [],
   "source": [
    "# let's save some arrays on the disk for use later!\n",
    "np.save('saved_file_name',rand_mat2)\n"
   ]
  },
  {
   "cell_type": "code",
   "execution_count": 26,
   "metadata": {},
   "outputs": [],
   "source": [
    "np.savez('zipped_file_name',rand_mat=rand_mat,rand_mat2=rand_mat2)"
   ]
  },
  {
   "cell_type": "code",
   "execution_count": 27,
   "metadata": {},
   "outputs": [
    {
     "name": "stdout",
     "output_type": "stream",
     "text": [
      "[[-8.35474480e-01 -8.02541449e-01 -1.17007050e+00 -9.67741987e-01\n",
      "   3.43607652e-01]\n",
      " [ 1.63373286e+00 -2.44596457e-01 -2.70286062e-01 -1.62208936e-01\n",
      "   1.48192208e+00]\n",
      " [ 7.94030119e-01 -2.64227806e+00 -2.61754902e-03  1.68192209e+00\n",
      "   4.81620964e-01]\n",
      " [ 7.17549809e-01  1.34847771e+00 -8.27947874e-01 -9.59090747e-02\n",
      "  -1.82142937e-01]\n",
      " [ 1.43046761e+00 -6.61195389e-01 -4.97651279e-01 -1.51756731e+00\n",
      "   4.52143529e-01]\n",
      " [ 2.97686619e-01  3.97603560e-02 -1.60864263e+00  9.28215624e-01\n",
      "  -1.35963287e+00]\n",
      " [-1.47728035e+00 -1.94042537e+00 -3.91427884e-01  4.09518612e-01\n",
      "  -6.75362649e-01]\n",
      " [-8.44984452e-01  1.75005355e+00 -2.37107671e-01 -1.39933690e+00\n",
      "   3.37870930e-01]\n",
      " [-5.88426362e-01  5.19583805e-01  7.46842893e-02 -1.15838233e+00\n",
      "   3.45183973e-01]\n",
      " [ 2.51400354e-01 -1.07950709e+00 -6.23134241e-01 -1.49764555e+00\n",
      "   9.61995320e-02]]\n",
      "\n",
      "<numpy.lib.npyio.NpzFile object at 0x109fd7490>\n"
     ]
    }
   ],
   "source": [
    "# now let's load it\n",
    "loaded_vec = np.load('saved_file_name.npy')\n",
    "loaded_zip = np.load('zipped_file_name.npz')\n",
    "\n",
    "print(loaded_vec)\n",
    "print('')\n",
    "print(loaded_zip)"
   ]
  },
  {
   "cell_type": "code",
   "execution_count": null,
   "metadata": {},
   "outputs": [],
   "source": [
    "print(loaded_zip['rand_mat'])\n",
    "print('')\n",
    "print(loaded_zip['rand_mat2'])\n",
    "\n",
    "new_array  = loaded_zip['rand_mat']\n",
    "print(new_array)"
   ]
  },
  {
   "cell_type": "code",
   "execution_count": null,
   "metadata": {},
   "outputs": [],
   "source": [
    "# we can also save/load as text files...but only single variables\n",
    "np.savetxt('text_file_name.txt',rand_mat,delimiter=',')\n",
    "rand_mat_txt = np.loadtxt('text_file_name.txt',delimiter=',')\n",
    "print(rand_mat)\n",
    "print('')\n",
    "print(rand_mat_txt)"
   ]
  },
  {
   "cell_type": "code",
   "execution_count": null,
   "metadata": {},
   "outputs": [],
   "source": []
  }
 ],
 "metadata": {
  "kernelspec": {
   "display_name": "Python 2",
   "language": "python",
   "name": "python2"
  },
  "language_info": {
   "codemirror_mode": {
    "name": "ipython",
    "version": 2
   },
   "file_extension": ".py",
   "mimetype": "text/x-python",
   "name": "python",
   "nbconvert_exporter": "python",
   "pygments_lexer": "ipython2",
   "version": "2.7.15"
  }
 },
 "nbformat": 4,
 "nbformat_minor": 2
}
