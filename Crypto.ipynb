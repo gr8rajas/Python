{
 "cells": [
  {
   "cell_type": "code",
   "execution_count": 60,
   "metadata": {},
   "outputs": [
    {
     "name": "stdout",
     "output_type": "stream",
     "text": [
      "Each user's BTC balance\n",
      "user_id\n",
      "1    11.51\n",
      "2     7.98\n",
      "Name: btc, dtype: float64\n",
      "Each user's USD balance\n",
      "user_id\n",
      "1    72565.20\n",
      "2    50795.64\n",
      "Name: usd, dtype: float64\n",
      "Each user's cc volume\n",
      "user_id\n",
      "1    2\n",
      "2    3\n",
      "Name: user_id, dtype: int64\n",
      "Each user's ach volume\n",
      "user_id\n",
      "1    8\n",
      "2    4\n",
      "Name: user_id, dtype: int64\n",
      "Average daily BTC\n",
      "user_id\n",
      "1    1.151\n",
      "2    1.140\n",
      "dtype: float64\n",
      "Average daily USD\n",
      "user_id\n",
      "1    7256.52\n",
      "2    7256.52\n",
      "dtype: float64\n"
     ]
    }
   ],
   "source": [
    "inp_list = [{\"user_id\":\"1\",\"timestamp\":1536987178,\"type\":\"buy\",\"btc\":0.23,\"usd\":7256.52,\"payment_method\":\"ach\"},\n",
    "{\"user_id\":\"1\",\"timestamp\":1537095561,\"type\":\"buy\",\"btc\":1.52,\"usd\":7256.52,\"payment_method\":\"cc\"},\n",
    "{\"user_id\":\"1\",\"timestamp\":1537121938,\"type\":\"sell\",\"btc\":1.23,\"usd\":7256.52,\"payment_method\":\"ach\"},\n",
    "{\"user_id\":\"2\",\"timestamp\":1537229927,\"type\":\"buy\",\"btc\":0.03,\"usd\":7256.52,\"payment_method\":\"cc\"},\n",
    "{\"user_id\":\"1\",\"timestamp\":1537242677,\"type\":\"sell\",\"btc\":0.01,\"usd\":7256.52,\"payment_method\":\"cc\"},\n",
    "{\"user_id\":\"1\",\"timestamp\":1537244060,\"type\":\"buy\",\"btc\":2.7,\"usd\":7256.52,\"payment_method\":\"ach\"},\n",
    "{\"user_id\":\"1\",\"timestamp\":1537275458,\"type\":\"buy\",\"btc\":1.23,\"usd\":7256.52,\"payment_method\":\"ach\"},\n",
    "{\"user_id\":\"1\",\"timestamp\":1537299582,\"type\":\"sell\",\"btc\":0.9,\"usd\":7256.52,\"payment_method\":\"ach\"},\n",
    "{\"user_id\":\"2\",\"timestamp\":1537424460,\"type\":\"buy\",\"btc\":1.8,\"usd\":7256.52,\"payment_method\":\"cc\"},\n",
    "{\"user_id\":\"2\",\"timestamp\":1537441605,\"type\":\"buy\",\"btc\":1.23,\"usd\":7256.52,\"payment_method\":\"ach\"},\n",
    "{\"user_id\":\"2\",\"timestamp\":1537491412,\"type\":\"buy\",\"btc\":1.23,\"usd\":7256.52,\"payment_method\":\"ach\"},\n",
    "{\"user_id\":\"2\",\"timestamp\":1537529720,\"type\":\"buy\",\"btc\":1.23,\"usd\":7256.52,\"payment_method\":\"ach\"},\n",
    "{\"user_id\":\"1\",\"timestamp\":1537598813,\"type\":\"buy\",\"btc\":1.23,\"usd\":7256.52,\"payment_method\":\"ach\"},\n",
    "{\"user_id\":\"2\",\"timestamp\":1537620168,\"type\":\"buy\",\"btc\":1.23,\"usd\":7256.52,\"payment_method\":\"ach\"},\n",
    "{\"user_id\":\"2\",\"timestamp\":1537681809,\"type\":\"buy\",\"btc\":1.23,\"usd\":7256.52,\"payment_method\":\"cc\"},\n",
    "{\"user_id\":\"1\",\"timestamp\":1537683845,\"type\":\"buy\",\"btc\":1.23,\"usd\":7256.52,\"payment_method\":\"ach\"},\n",
    "{\"user_id\":\"1\",\"timestamp\":1537772265,\"type\":\"buy\",\"btc\":1.23,\"usd\":7256.52,\"payment_method\":\"ach\"}]\n",
    "\n",
    "\n",
    "import pandas as pd\n",
    "\n",
    "df = pd.DataFrame(inp_list)\n",
    "\n",
    "sum_btc = df.groupby([\"user_id\"])[\"btc\"].sum()\n",
    "sum_usd = df.groupby([\"user_id\"])[\"usd\"].sum()\n",
    "vol_tran_cc = df.loc[df[\"payment_method\"] == \"cc\"].groupby([\"user_id\"])[\"user_id\"].count()\n",
    "vol_tran_ach = df.loc[df[\"payment_method\"] == \"ach\"].groupby([\"user_id\"])[\"user_id\"].count()\n",
    "\n",
    "\n",
    "count_btc = df.groupby([\"user_id\"])[\"user_id\"].count()\n",
    "\n",
    "print \"Each user's BTC balance\"\n",
    "print sum_btc\n",
    "\n",
    "print \"Each user's USD balance\"\n",
    "print sum_usd\n",
    "\n",
    "print \"Each user's cc volume\"\n",
    "print vol_tran_cc\n",
    "\n",
    "print \"Each user's ach volume\"\n",
    "print vol_tran_ach\n",
    "\n",
    "print \"Average daily BTC\"\n",
    "print sum_btc/count_btc\n",
    "\n",
    "print \"Average daily USD\"\n",
    "print sum_usd/count_btc\n"
   ]
  },
  {
   "cell_type": "code",
   "execution_count": null,
   "metadata": {},
   "outputs": [],
   "source": []
  }
 ],
 "metadata": {
  "kernelspec": {
   "display_name": "Python 2",
   "language": "python",
   "name": "python2"
  },
  "language_info": {
   "codemirror_mode": {
    "name": "ipython",
    "version": 2
   },
   "file_extension": ".py",
   "mimetype": "text/x-python",
   "name": "python",
   "nbconvert_exporter": "python",
   "pygments_lexer": "ipython2",
   "version": "2.7.15"
  }
 },
 "nbformat": 4,
 "nbformat_minor": 2
}
